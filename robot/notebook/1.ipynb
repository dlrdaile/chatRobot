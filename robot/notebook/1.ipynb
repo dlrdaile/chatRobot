{
 "cells": [
  {
   "cell_type": "code",
   "execution_count": 1,
   "metadata": {},
   "outputs": [],
   "source": [
    "from actor import Actor\n",
    "from env import Env"
   ]
  },
  {
   "cell_type": "code",
   "execution_count": 2,
   "metadata": {},
   "outputs": [],
   "source": [
    "actor = Actor()\n",
    "env = Env()"
   ]
  },
  {
   "cell_type": "code",
   "execution_count": 3,
   "metadata": {},
   "outputs": [
    {
     "name": "stdout",
     "output_type": "stream",
     "text": [
      "8:00\n",
      "内容：Goodwin，我刚刚醒来发现自己在一列火车上，完全不记得怎么来的这里。旁边坐着一个女性，车厢里还有个大学生的样子，一个花衬衫男，一个上班族，一位长者，一个背包客，和一个中年商务男。我现在开始观察周围环境，尝试找到线索。\n",
      "['8:00', '徐天行', 'Goodwin，我刚刚醒来发现自己在一列火车上，完全不记得怎么来的这里。旁边坐着一个女性，车厢里还有个大学生的样子，一个花衬衫男，一个上班族，一位长者，一个背包客，和一个中年商务男。我现在开始观察周围环境，尝试找到线索。']\n",
      "['8:00', 'Goodwin', '你跟这个女性聊聊']\n",
      "8:01\n",
      "内容：开始与旁边的女性搭话，试图了解更多情况。\n",
      "回应：徐天行转过头，对旁边座位上的女性微笑了一下，试图开启对话。\"早上好，我发现我们在同一个车厢里好几次了，你经常坐这趟火车吗？\" 女性看起来有些惊讶，但很快就放松了下来，她回应说：\"不，我不经常坐。我只是今天有些事情要处理。\" 他们简单地交谈了几句，徐天行感觉她似乎有些心事。\n",
      "\n",
      "时间：3分钟。\n",
      "8:04\n",
      "内容：Goodwin，刚跟旁边那位女士聊了聊，她似乎不是经常坐这趟火车，今天有事情要处理，感觉她有点心不在焉的。现在准备继续观察其他人，看能不能发现点啥线索。\n",
      "['8:04', '徐天行', 'Goodwin，刚跟旁边那位女士聊了聊，她似乎不是经常坐这趟火车，今天有事情要处理，感觉她有点心不在焉的。现在准备继续观察其他人，看能不能发现点啥线索。']\n",
      "['8:04', 'Goodwin', '那你再看看大学生']\n",
      "8:05\n",
      "内容：开始观察大学生的行为，寻找可能的线索。\n",
      "回应：徐天行注意到一个戴着耳机、看起来充满活力的大学生，正沉浸在自己的音乐世界中。他试图接近大学生，但大学生似乎完全没有注意到他的存在。徐天行尝试拍了一下他的肩膀，大学生才惊讶地摘下耳机，脸上露出一丝困惑。\n",
      "\n",
      "时间：2分钟。\n",
      "8:07\n",
      "内容：Goodwin，跟那位大学生打了个招呼，他刚开始没注意到我，戴着耳机很投入的样子。靠近了才反应过来，看起来有点懵，不过还没发现啥特别线索，接下来我打算跟花衬衫男聊聊，他看起来有点不寻常。\n",
      "['8:07', '徐天行', 'Goodwin，跟那位大学生打了个招呼，他刚开始没注意到我，戴着耳机很投入的样子。靠近了才反应过来，看起来有点懵，不过还没发现啥特别线索，接下来我打算跟花衬衫男聊聊，他看起来有点不寻常。']\n",
      "['8:07', 'Goodwin', '你跟大学生聊聊啊，你拍他有什么用']\n",
      "8:08\n",
      "内容：与大学生进行交谈，试图了解他的行程以及是否注意到我上火车的情况。\n",
      "回应：大学生略带困惑地听着徐天行的提问，他解释说自己通常都是在音乐中沉浸，没有特别注意周围的人。\"哦，我每天都坐这趟火车去学校，但还真没注意到你。今天是怎么了？\" 大学生似乎对徐天行的提问感到好奇，但并没有表现出太多的警惕。\n",
      "\n",
      "时间：3分钟。\n",
      "8:11\n",
      "内容：Goodwin，跟大学生聊了，他每天坐这趟火车去学校，但对我上火车的情况没啥印象，说自己常戴耳机没注意周围。感觉他挺正常的，没有啥可疑的。接下来我打算去会会那个花衬衫男，他看起来有点儿不拘一格，可能能发现点啥。\n",
      "['8:11', '徐天行', 'Goodwin，跟大学生聊了，他每天坐这趟火车去学校，但对我上火车的情况没啥印象，说自己常戴耳机没注意周围。感觉他挺正常的，没有啥可疑的。接下来我打算去会会那个花衬衫男，他看起来有点儿不拘一格，可能能发现点啥。']\n",
      "['8:11', 'Goodwin', '那你去吧']\n",
      "8:12\n",
      "内容：接近花衬衫男，尝试与他展开对话，观察他的反应和言行举止，寻找可能的线索。\n",
      "回应：徐天行走向那位穿着花衬衫的男子，试图与他展开对话。男子看起来有些戒备，但徐天行微笑着说：“哥们，你这衬衫真有个性，在哪买的？”花衬衫男子迟疑了一下，回答说：“哦，这个嘛，在旺角的一家小店。”他们的对话很简短，男子似乎不愿意多说话，眼神也总是飘向车窗，似乎在留意着什么。\n",
      "时间：3分钟\n",
      "8:15\n",
      "内容：Goodwin，跟花衬衫男简单聊了聊，他似乎有点戒备，不太愿意多说话，眼神总是往车窗飘，好像在留意什么。衬衫是在旺角一家小店买的。感觉他这里可能有文章，需要进一步留意。\n",
      "['8:15', '徐天行', 'Goodwin，跟花衬衫男简单聊了聊，他似乎有点戒备，不太愿意多说话，眼神总是往车窗飘，好像在留意什么。衬衫是在旺角一家小店买的。感觉他这里可能有文章，需要进一步留意。']\n",
      "['8:15', 'Goodwin', '你再看看车厢里面']\n",
      "8:16\n",
      "内容：继续观察车厢内的其他人，特别注意那位花衬衫男的行为，同时留心任何可能表明我如何上火车及当前情况的线索。\n",
      "回应：徐天行在观察车厢内的人时，注意到花衬衫男子的行为变得越来越可疑。男子似乎在不断地查看手表，并且不时地向车窗外张望，好像在等待什么信号。同时，徐天行也注意到了一个细节，火车的行李架上有一个无人认领的背包，这引起了他的好奇。\n",
      "\n",
      "时间：4分钟\n",
      "=========================== Boom =============================\n",
      "8:00\n",
      "内容：Goodwin，我醒来时在一列火车上，边上有个女的，车厢里还有个大学生、花衬衫男、上班族、长者、背包客和中年商务男。完全不记得怎么来的这，情况有点诡异，需要你指示下一步行动。\n",
      "['8:00', '徐天行', 'Goodwin，我醒来时在一列火车上，边上有个女的，车厢里还有个大学生、花衬衫男、上班族、长者、背包客和中年商务男。完全不记得怎么来的这，情况有点诡异，需要你指示下一步行动。']\n",
      "['8:00', 'Goodwin', '你好']\n",
      "8:01\n",
      "内容：保持冷静，先观察周围环境，尝试与同车厢的人交流以获取信息，同时等待Goodwin的进一步指示。\n",
      "回应：徐天行在醒来后深吸一口气，保持冷静，开始观察周围的环境。他注意到车厢内的人们各自忙碌着自己的事情，没有人显得特别异常。他决定先接近那位看起来有些失落的艺术家女性，试图展开对话。\n",
      "\n",
      "具体内容如下：\n",
      "徐天行轻声问道：\"你好，我发现你在画画，是去参加某个艺术展览吗？\"\n",
      "女性略带惊讶地抬起头，然后微笑着回答：\"哦，不，这只是一些个人作品。我觉得在火车上画画能让我放松。\"\n",
      "他们开始了简单的交谈，徐天行试图了解更多关于她的事情，希望能从中找到一些线索。\n",
      "\n",
      "时间：3分钟\n",
      "8:04\n",
      "内容：Goodwin，车厢里大家都挺正常的，我刚刚开始和旁边那位看起来有点失落的女性交流，想了解更多信息。其他人都在忙自己的事，暂时没发现什么可疑的。继续观察中，等你的消息。\n",
      "['8:04', '徐天行', 'Goodwin，车厢里大家都挺正常的，我刚刚开始和旁边那位看起来有点失落的女性交流，想了解更多信息。其他人都在忙自己的事，暂时没发现什么可疑的。继续观察中，等你的消息。']\n",
      "['8:04', 'Goodwin', '你陷入了时间循环，刚刚似乎发生了爆炸']\n",
      "8:05\n",
      "内容：立即确认车厢内是否有爆炸迹象，评估自身安全状况，同时尝试向周围人询问是否有人察觉到异常情况或爆炸声，以收集更多信息。\n",
      "回应：徐天行在车厢内快速扫视，没有发现明显的爆炸迹象。他试图向周围的人询问是否有异常情况，但周围的乘客似乎都没有注意到任何爆炸声或异常情况。他注意到那位艺术家女性正低头沉思，而那位穿着花衬衫的男子依然显得有些焦虑，时不时地望向窗外。\n",
      "\n",
      "时间：3分钟。\n",
      "8:08\n",
      "内容：Goodwin，车厢里看起来没有爆炸迹象，大家都挺淡定，没感觉到有人察觉到异常。旁边女性好像有心事，花衬衫男显得焦虑，一直看窗外，其他人都在忙自己的。我现在继续观察，看能不能从他们那得到更多信息。\n",
      "['8:08', '徐天行', 'Goodwin，车厢里看起来没有爆炸迹象，大家都挺淡定，没感觉到有人察觉到异常。旁边女性好像有心事，花衬衫男显得焦虑，一直看窗外，其他人都在忙自己的。我现在继续观察，看能不能从他们那得到更多信息。']\n",
      "['8:08', 'Goodwin', '']\n",
      "8:09\n"
     ]
    },
    {
     "ename": "APIAuthenticationError",
     "evalue": "Error code: 401, with error text {\"error\":{\"code\":\"1003\",\"message\":\"Authorization Token已过期，请重新生成/获取。\"}}",
     "output_type": "error",
     "traceback": [
      "\u001b[1;31m---------------------------------------------------------------------------\u001b[0m",
      "\u001b[1;31mAPIAuthenticationError\u001b[0m                    Traceback (most recent call last)",
      "Cell \u001b[1;32mIn[3], line 13\u001b[0m\n\u001b[0;32m     11\u001b[0m     time \u001b[38;5;241m+\u001b[39m\u001b[38;5;241m=\u001b[39m \u001b[38;5;241m1\u001b[39m\n\u001b[0;32m     12\u001b[0m \u001b[38;5;28;01melse\u001b[39;00m:\n\u001b[1;32m---> 13\u001b[0m     action \u001b[38;5;241m=\u001b[39m \u001b[43mactor\u001b[49m\u001b[38;5;241;43m.\u001b[39;49m\u001b[43mact\u001b[49m\u001b[43m(\u001b[49m\u001b[43mtime_s\u001b[49m\u001b[43m,\u001b[49m\u001b[43m \u001b[49m\u001b[38;5;124;43m'\u001b[39;49m\u001b[38;5;124;43maction\u001b[39;49m\u001b[38;5;124;43m'\u001b[39;49m\u001b[43m)\u001b[49m\n\u001b[0;32m     14\u001b[0m     response, act_time \u001b[38;5;241m=\u001b[39m env\u001b[38;5;241m.\u001b[39mact(action)\n\u001b[0;32m     15\u001b[0m     action[\u001b[38;5;241m2\u001b[39m] \u001b[38;5;241m=\u001b[39m response\u001b[38;5;241m.\u001b[39mreplace(\u001b[38;5;124m'\u001b[39m\u001b[38;5;124m徐天行\u001b[39m\u001b[38;5;124m'\u001b[39m, \u001b[38;5;124m'\u001b[39m\u001b[38;5;124m你\u001b[39m\u001b[38;5;124m'\u001b[39m)\n",
      "File \u001b[1;32mc:\\Users\\86134\\Desktop\\source\\actor.py:63\u001b[0m, in \u001b[0;36mActor.act\u001b[1;34m(self, time, action)\u001b[0m\n\u001b[0;32m     61\u001b[0m retry \u001b[38;5;241m=\u001b[39m \u001b[38;5;241m0\u001b[39m\n\u001b[0;32m     62\u001b[0m \u001b[38;5;28;01mwhile\u001b[39;00m \u001b[38;5;28;01mTrue\u001b[39;00m:\n\u001b[1;32m---> 63\u001b[0m     ret \u001b[38;5;241m=\u001b[39m \u001b[43mchat\u001b[49m\u001b[43m(\u001b[49m\u001b[43mprompt\u001b[49m\u001b[43m)\u001b[49m\n\u001b[0;32m     64\u001b[0m     \u001b[38;5;66;03m# print(\"====================\")\u001b[39;00m\n\u001b[0;32m     65\u001b[0m     \u001b[38;5;66;03m# print(prompt)\u001b[39;00m\n\u001b[0;32m     66\u001b[0m     \u001b[38;5;66;03m# print(\"====================\")\u001b[39;00m\n\u001b[0;32m     67\u001b[0m     \u001b[38;5;28mprint\u001b[39m(ret)\n",
      "File \u001b[1;32mc:\\Users\\86134\\Desktop\\source\\zhipu.py:12\u001b[0m, in \u001b[0;36mchat\u001b[1;34m(prompt, sys_prompt, history)\u001b[0m\n\u001b[0;32m     10\u001b[0m \u001b[38;5;28;01mif\u001b[39;00m prompt \u001b[38;5;241m!=\u001b[39m \u001b[38;5;124m\"\u001b[39m\u001b[38;5;124m\"\u001b[39m:\n\u001b[0;32m     11\u001b[0m     messages\u001b[38;5;241m.\u001b[39mappend({\u001b[38;5;124m\"\u001b[39m\u001b[38;5;124mrole\u001b[39m\u001b[38;5;124m\"\u001b[39m: \u001b[38;5;124m\"\u001b[39m\u001b[38;5;124muser\u001b[39m\u001b[38;5;124m\"\u001b[39m, \u001b[38;5;124m\"\u001b[39m\u001b[38;5;124mcontent\u001b[39m\u001b[38;5;124m\"\u001b[39m: prompt})\n\u001b[1;32m---> 12\u001b[0m response \u001b[38;5;241m=\u001b[39m \u001b[43mclient\u001b[49m\u001b[38;5;241;43m.\u001b[39;49m\u001b[43mchat\u001b[49m\u001b[38;5;241;43m.\u001b[39;49m\u001b[43mcompletions\u001b[49m\u001b[38;5;241;43m.\u001b[39;49m\u001b[43mcreate\u001b[49m\u001b[43m(\u001b[49m\n\u001b[0;32m     13\u001b[0m \u001b[43m    \u001b[49m\u001b[43mmodel\u001b[49m\u001b[38;5;241;43m=\u001b[39;49m\u001b[38;5;124;43m\"\u001b[39;49m\u001b[38;5;124;43mglm-4\u001b[39;49m\u001b[38;5;124;43m\"\u001b[39;49m\u001b[43m,\u001b[49m\n\u001b[0;32m     14\u001b[0m \u001b[43m    \u001b[49m\u001b[43mmessages\u001b[49m\u001b[38;5;241;43m=\u001b[39;49m\u001b[43mmessages\u001b[49m\n\u001b[0;32m     15\u001b[0m \u001b[43m\u001b[49m\u001b[43m)\u001b[49m\n\u001b[0;32m     16\u001b[0m \u001b[38;5;28;01mreturn\u001b[39;00m response\u001b[38;5;241m.\u001b[39mchoices[\u001b[38;5;241m0\u001b[39m]\u001b[38;5;241m.\u001b[39mmessage\u001b[38;5;241m.\u001b[39mcontent\n",
      "File \u001b[1;32md:\\Anaconda\\envs\\py310\\lib\\site-packages\\zhipuai\\api_resource\\chat\\completions.py:48\u001b[0m, in \u001b[0;36mCompletions.create\u001b[1;34m(self, model, request_id, do_sample, stream, temperature, top_p, max_tokens, seed, messages, stop, sensitive_word_check, tools, tool_choice, extra_headers, disable_strict_validation, timeout)\u001b[0m\n\u001b[0;32m     46\u001b[0m     _cast_type \u001b[38;5;241m=\u001b[39m \u001b[38;5;28mobject\u001b[39m\n\u001b[0;32m     47\u001b[0m     _stream_cls \u001b[38;5;241m=\u001b[39m StreamResponse[\u001b[38;5;28mobject\u001b[39m]\n\u001b[1;32m---> 48\u001b[0m \u001b[38;5;28;01mreturn\u001b[39;00m \u001b[38;5;28;43mself\u001b[39;49m\u001b[38;5;241;43m.\u001b[39;49m\u001b[43m_post\u001b[49m\u001b[43m(\u001b[49m\n\u001b[0;32m     49\u001b[0m \u001b[43m    \u001b[49m\u001b[38;5;124;43m\"\u001b[39;49m\u001b[38;5;124;43m/chat/completions\u001b[39;49m\u001b[38;5;124;43m\"\u001b[39;49m\u001b[43m,\u001b[49m\n\u001b[0;32m     50\u001b[0m \u001b[43m    \u001b[49m\u001b[43mbody\u001b[49m\u001b[38;5;241;43m=\u001b[39;49m\u001b[43m{\u001b[49m\n\u001b[0;32m     51\u001b[0m \u001b[43m        \u001b[49m\u001b[38;5;124;43m\"\u001b[39;49m\u001b[38;5;124;43mmodel\u001b[39;49m\u001b[38;5;124;43m\"\u001b[39;49m\u001b[43m:\u001b[49m\u001b[43m \u001b[49m\u001b[43mmodel\u001b[49m\u001b[43m,\u001b[49m\n\u001b[0;32m     52\u001b[0m \u001b[43m        \u001b[49m\u001b[38;5;124;43m\"\u001b[39;49m\u001b[38;5;124;43mrequest_id\u001b[39;49m\u001b[38;5;124;43m\"\u001b[39;49m\u001b[43m:\u001b[49m\u001b[43m \u001b[49m\u001b[43mrequest_id\u001b[49m\u001b[43m,\u001b[49m\n\u001b[0;32m     53\u001b[0m \u001b[43m        \u001b[49m\u001b[38;5;124;43m\"\u001b[39;49m\u001b[38;5;124;43mtemperature\u001b[39;49m\u001b[38;5;124;43m\"\u001b[39;49m\u001b[43m:\u001b[49m\u001b[43m \u001b[49m\u001b[43mtemperature\u001b[49m\u001b[43m,\u001b[49m\n\u001b[0;32m     54\u001b[0m \u001b[43m        \u001b[49m\u001b[38;5;124;43m\"\u001b[39;49m\u001b[38;5;124;43mtop_p\u001b[39;49m\u001b[38;5;124;43m\"\u001b[39;49m\u001b[43m:\u001b[49m\u001b[43m \u001b[49m\u001b[43mtop_p\u001b[49m\u001b[43m,\u001b[49m\n\u001b[0;32m     55\u001b[0m \u001b[43m        \u001b[49m\u001b[38;5;124;43m\"\u001b[39;49m\u001b[38;5;124;43mdo_sample\u001b[39;49m\u001b[38;5;124;43m\"\u001b[39;49m\u001b[43m:\u001b[49m\u001b[43m \u001b[49m\u001b[43mdo_sample\u001b[49m\u001b[43m,\u001b[49m\n\u001b[0;32m     56\u001b[0m \u001b[43m        \u001b[49m\u001b[38;5;124;43m\"\u001b[39;49m\u001b[38;5;124;43mmax_tokens\u001b[39;49m\u001b[38;5;124;43m\"\u001b[39;49m\u001b[43m:\u001b[49m\u001b[43m \u001b[49m\u001b[43mmax_tokens\u001b[49m\u001b[43m,\u001b[49m\n\u001b[0;32m     57\u001b[0m \u001b[43m        \u001b[49m\u001b[38;5;124;43m\"\u001b[39;49m\u001b[38;5;124;43mseed\u001b[39;49m\u001b[38;5;124;43m\"\u001b[39;49m\u001b[43m:\u001b[49m\u001b[43m \u001b[49m\u001b[43mseed\u001b[49m\u001b[43m,\u001b[49m\n\u001b[0;32m     58\u001b[0m \u001b[43m        \u001b[49m\u001b[38;5;124;43m\"\u001b[39;49m\u001b[38;5;124;43mmessages\u001b[39;49m\u001b[38;5;124;43m\"\u001b[39;49m\u001b[43m:\u001b[49m\u001b[43m \u001b[49m\u001b[43mmessages\u001b[49m\u001b[43m,\u001b[49m\n\u001b[0;32m     59\u001b[0m \u001b[43m        \u001b[49m\u001b[38;5;124;43m\"\u001b[39;49m\u001b[38;5;124;43mstop\u001b[39;49m\u001b[38;5;124;43m\"\u001b[39;49m\u001b[43m:\u001b[49m\u001b[43m \u001b[49m\u001b[43mstop\u001b[49m\u001b[43m,\u001b[49m\n\u001b[0;32m     60\u001b[0m \u001b[43m        \u001b[49m\u001b[38;5;124;43m\"\u001b[39;49m\u001b[38;5;124;43msensitive_word_check\u001b[39;49m\u001b[38;5;124;43m\"\u001b[39;49m\u001b[43m:\u001b[49m\u001b[43m \u001b[49m\u001b[43msensitive_word_check\u001b[49m\u001b[43m,\u001b[49m\n\u001b[0;32m     61\u001b[0m \u001b[43m        \u001b[49m\u001b[38;5;124;43m\"\u001b[39;49m\u001b[38;5;124;43mstream\u001b[39;49m\u001b[38;5;124;43m\"\u001b[39;49m\u001b[43m:\u001b[49m\u001b[43m \u001b[49m\u001b[43mstream\u001b[49m\u001b[43m,\u001b[49m\n\u001b[0;32m     62\u001b[0m \u001b[43m        \u001b[49m\u001b[38;5;124;43m\"\u001b[39;49m\u001b[38;5;124;43mtools\u001b[39;49m\u001b[38;5;124;43m\"\u001b[39;49m\u001b[43m:\u001b[49m\u001b[43m \u001b[49m\u001b[43mtools\u001b[49m\u001b[43m,\u001b[49m\n\u001b[0;32m     63\u001b[0m \u001b[43m        \u001b[49m\u001b[38;5;124;43m\"\u001b[39;49m\u001b[38;5;124;43mtool_choice\u001b[39;49m\u001b[38;5;124;43m\"\u001b[39;49m\u001b[43m:\u001b[49m\u001b[43m \u001b[49m\u001b[43mtool_choice\u001b[49m\u001b[43m,\u001b[49m\n\u001b[0;32m     64\u001b[0m \u001b[43m    \u001b[49m\u001b[43m}\u001b[49m\u001b[43m,\u001b[49m\n\u001b[0;32m     65\u001b[0m \u001b[43m    \u001b[49m\u001b[43moptions\u001b[49m\u001b[38;5;241;43m=\u001b[39;49m\u001b[43mmake_user_request_input\u001b[49m\u001b[43m(\u001b[49m\n\u001b[0;32m     66\u001b[0m \u001b[43m        \u001b[49m\u001b[43mextra_headers\u001b[49m\u001b[38;5;241;43m=\u001b[39;49m\u001b[43mextra_headers\u001b[49m\u001b[43m,\u001b[49m\n\u001b[0;32m     67\u001b[0m \u001b[43m    \u001b[49m\u001b[43m)\u001b[49m\u001b[43m,\u001b[49m\n\u001b[0;32m     68\u001b[0m \u001b[43m    \u001b[49m\u001b[43mcast_type\u001b[49m\u001b[38;5;241;43m=\u001b[39;49m\u001b[43m_cast_type\u001b[49m\u001b[43m,\u001b[49m\n\u001b[0;32m     69\u001b[0m \u001b[43m    \u001b[49m\u001b[43menable_stream\u001b[49m\u001b[38;5;241;43m=\u001b[39;49m\u001b[43mstream\u001b[49m\u001b[43m \u001b[49m\u001b[38;5;129;43;01mor\u001b[39;49;00m\u001b[43m \u001b[49m\u001b[38;5;28;43;01mFalse\u001b[39;49;00m\u001b[43m,\u001b[49m\n\u001b[0;32m     70\u001b[0m \u001b[43m    \u001b[49m\u001b[43mstream_cls\u001b[49m\u001b[38;5;241;43m=\u001b[39;49m\u001b[43m_stream_cls\u001b[49m\u001b[43m,\u001b[49m\n\u001b[0;32m     71\u001b[0m \u001b[43m\u001b[49m\u001b[43m)\u001b[49m\n",
      "File \u001b[1;32md:\\Anaconda\\envs\\py310\\lib\\site-packages\\zhipuai\\core\\_http_client.py:292\u001b[0m, in \u001b[0;36mHttpClient.post\u001b[1;34m(self, path, body, cast_type, options, files, enable_stream, stream_cls)\u001b[0m\n\u001b[0;32m    278\u001b[0m \u001b[38;5;28;01mdef\u001b[39;00m \u001b[38;5;21mpost\u001b[39m(\n\u001b[0;32m    279\u001b[0m         \u001b[38;5;28mself\u001b[39m,\n\u001b[0;32m    280\u001b[0m         path: \u001b[38;5;28mstr\u001b[39m,\n\u001b[1;32m   (...)\u001b[0m\n\u001b[0;32m    287\u001b[0m         stream_cls: \u001b[38;5;28mtype\u001b[39m[StreamResponse[Any]] \u001b[38;5;241m|\u001b[39m \u001b[38;5;28;01mNone\u001b[39;00m \u001b[38;5;241m=\u001b[39m \u001b[38;5;28;01mNone\u001b[39;00m,\n\u001b[0;32m    288\u001b[0m ) \u001b[38;5;241m-\u001b[39m\u001b[38;5;241m>\u001b[39m ResponseT \u001b[38;5;241m|\u001b[39m StreamResponse:\n\u001b[0;32m    289\u001b[0m     opts \u001b[38;5;241m=\u001b[39m ClientRequestParam\u001b[38;5;241m.\u001b[39mconstruct(method\u001b[38;5;241m=\u001b[39m\u001b[38;5;124m\"\u001b[39m\u001b[38;5;124mpost\u001b[39m\u001b[38;5;124m\"\u001b[39m, json_data\u001b[38;5;241m=\u001b[39mbody, files\u001b[38;5;241m=\u001b[39mmake_httpx_files(files), url\u001b[38;5;241m=\u001b[39mpath,\n\u001b[0;32m    290\u001b[0m                                         \u001b[38;5;241m*\u001b[39m\u001b[38;5;241m*\u001b[39moptions)\n\u001b[1;32m--> 292\u001b[0m     \u001b[38;5;28;01mreturn\u001b[39;00m \u001b[38;5;28;43mself\u001b[39;49m\u001b[38;5;241;43m.\u001b[39;49m\u001b[43mrequest\u001b[49m\u001b[43m(\u001b[49m\n\u001b[0;32m    293\u001b[0m \u001b[43m        \u001b[49m\u001b[43mcast_type\u001b[49m\u001b[38;5;241;43m=\u001b[39;49m\u001b[43mcast_type\u001b[49m\u001b[43m,\u001b[49m\u001b[43m \u001b[49m\u001b[43mparams\u001b[49m\u001b[38;5;241;43m=\u001b[39;49m\u001b[43mopts\u001b[49m\u001b[43m,\u001b[49m\n\u001b[0;32m    294\u001b[0m \u001b[43m        \u001b[49m\u001b[43menable_stream\u001b[49m\u001b[38;5;241;43m=\u001b[39;49m\u001b[43menable_stream\u001b[49m\u001b[43m,\u001b[49m\n\u001b[0;32m    295\u001b[0m \u001b[43m        \u001b[49m\u001b[43mstream_cls\u001b[49m\u001b[38;5;241;43m=\u001b[39;49m\u001b[43mstream_cls\u001b[49m\n\u001b[0;32m    296\u001b[0m \u001b[43m    \u001b[49m\u001b[43m)\u001b[49m\n",
      "File \u001b[1;32md:\\Anaconda\\envs\\py310\\lib\\site-packages\\zhipuai\\core\\_http_client.py:251\u001b[0m, in \u001b[0;36mHttpClient.request\u001b[1;34m(self, cast_type, params, enable_stream, stream_cls)\u001b[0m\n\u001b[0;32m    249\u001b[0m     err\u001b[38;5;241m.\u001b[39mresponse\u001b[38;5;241m.\u001b[39mread()\n\u001b[0;32m    250\u001b[0m     \u001b[38;5;66;03m# raise err\u001b[39;00m\n\u001b[1;32m--> 251\u001b[0m     \u001b[38;5;28;01mraise\u001b[39;00m \u001b[38;5;28mself\u001b[39m\u001b[38;5;241m.\u001b[39m_make_status_error(err\u001b[38;5;241m.\u001b[39mresponse) \u001b[38;5;28;01mfrom\u001b[39;00m \u001b[38;5;28;01mNone\u001b[39;00m\n\u001b[0;32m    253\u001b[0m \u001b[38;5;28;01mexcept\u001b[39;00m \u001b[38;5;167;01mException\u001b[39;00m \u001b[38;5;28;01mas\u001b[39;00m err:\n\u001b[0;32m    254\u001b[0m     \u001b[38;5;28;01mraise\u001b[39;00m err\n",
      "\u001b[1;31mAPIAuthenticationError\u001b[0m: Error code: 401, with error text {\"error\":{\"code\":\"1003\",\"message\":\"Authorization Token已过期，请重新生成/获取。\"}}"
     ]
    }
   ],
   "source": [
    "time = 0\n",
    "t = 0\n",
    "\n",
    "while True:\n",
    "    time_s = '8:{:02d}'.format(time)\n",
    "    print(time_s)\n",
    "\n",
    "    if t == 0:\n",
    "        message = actor.act(time_s, 'message')\n",
    "        actor.user_input(input())\n",
    "        time += 1\n",
    "    else:\n",
    "        action = actor.act(time_s, 'action')\n",
    "        response, act_time = env.act(action)\n",
    "        action[2] = response.replace('徐天行', '你')\n",
    "        actor.add_action(action)\n",
    "        time += act_time\n",
    "\n",
    "    t = 1 - t\n",
    "    if time >= 20:\n",
    "        actor.reset()\n",
    "        env.new_loop()\n",
    "        time = 0\n",
    "        t = 0\n",
    "        print(\"=========================== Boom =============================\")\n",
    "\n",
    "\n",
    "\n",
    "        "
   ]
  },
  {
   "cell_type": "code",
   "execution_count": null,
   "metadata": {},
   "outputs": [],
   "source": [
    "\n"
   ]
  }
 ],
 "metadata": {
  "kernelspec": {
   "display_name": "py310",
   "language": "python",
   "name": "python3"
  },
  "language_info": {
   "codemirror_mode": {
    "name": "ipython",
    "version": 3
   },
   "file_extension": ".py",
   "mimetype": "text/x-python",
   "name": "python",
   "nbconvert_exporter": "python",
   "pygments_lexer": "ipython3",
   "version": "3.10.13"
  }
 },
 "nbformat": 4,
 "nbformat_minor": 2
}
